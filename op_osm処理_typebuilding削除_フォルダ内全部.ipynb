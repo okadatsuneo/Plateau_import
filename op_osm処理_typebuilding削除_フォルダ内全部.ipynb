{
  "nbformat": 4,
  "nbformat_minor": 0,
  "metadata": {
    "colab": {
      "provenance": [],
      "authorship_tag": "ABX9TyMUlaRg6z55fOt0w0aOZMQ0",
      "include_colab_link": true
    },
    "kernelspec": {
      "name": "python3",
      "display_name": "Python 3"
    },
    "language_info": {
      "name": "python"
    }
  },
  "cells": [
    {
      "cell_type": "markdown",
      "metadata": {
        "id": "view-in-github",
        "colab_type": "text"
      },
      "source": [
        "<a href=\"https://colab.research.google.com/github/okadatsuneo/Plateau_import/blob/main/op_osm%E5%87%A6%E7%90%86_typebuilding%E5%89%8A%E9%99%A4_%E3%83%95%E3%82%A9%E3%83%AB%E3%83%80%E5%86%85%E5%85%A8%E9%83%A8.ipynb\" target=\"_parent\"><img src=\"https://colab.research.google.com/assets/colab-badge.svg\" alt=\"Open In Colab\"/></a>"
      ]
    },
    {
      "cell_type": "markdown",
      "source": [
        "Plateauインポートの_op.osmファイルの処理：type=buildingのリレーションを解除する。\n",
        "\n",
        "入力ファイル:＊＊＊_op.osm、出力ファイル:＊＊＊.op_2.osm\n",
        "\n",
        "特定のフォルダ内の複数ファイルをまとめて処理する。"
      ],
      "metadata": {
        "id": "EaUZDkvrvNfy"
      }
    },
    {
      "cell_type": "code",
      "execution_count": null,
      "metadata": {
        "id": "Rw1cqvrFUBJc"
      },
      "outputs": [],
      "source": [
        "import os\n",
        "import xml.etree.ElementTree as ET\n",
        "from pathlib import Path"
      ]
    },
    {
      "cell_type": "markdown",
      "source": [
        "Googleドライブにあるファイルを読み込む。"
      ],
      "metadata": {
        "id": "SQAowYDBWtG7"
      }
    },
    {
      "cell_type": "code",
      "source": [
        "#ドライブのマウントはセッションが切れると解除される。ファイルも削除されるので、MyDrive下に置く。\n",
        "from google.colab import drive\n",
        "drive.mount('/content/drive')"
      ],
      "metadata": {
        "id": "7zcGV-mdWg97",
        "colab": {
          "base_uri": "https://localhost:8080/"
        },
        "outputId": "5b7ea250-1157-4bf3-a36b-4cf00cd8b390"
      },
      "execution_count": null,
      "outputs": [
        {
          "output_type": "stream",
          "name": "stdout",
          "text": [
            "Mounted at /content/drive\n"
          ]
        }
      ]
    },
    {
      "cell_type": "markdown",
      "source": [
        "_op.osm のOSMファイルの読み込みをして処理をする。_op2.osmとして出力する。"
      ],
      "metadata": {
        "id": "kufymDx0vhzr"
      }
    },
    {
      "cell_type": "code",
      "source": [
        "# 処理対象のフォルダを指定\n",
        "folder_path = Path('/content/drive/MyDrive/python/tmp/')\n",
        "\n",
        "def process_folder(folder_path):\n",
        "    # フォルダ内のすべてのXMLファイルに対して処理\n",
        "    for input_file in folder_path.glob('*.osm'):\n",
        "        process_xml(input_file)\n",
        "\n",
        "def process_xml(input_file):\n",
        "    # 出力ファイル名の作成\n",
        "    base_name, extension = os.path.splitext(input_file)\n",
        "    output_file = f'{base_name}_2{extension}'\n",
        "\n",
        "    # XMLファイルをパースする\n",
        "    tree = ET.parse(input_file)\n",
        "    # ルート要素を取得\n",
        "    root = tree.getroot()\n",
        "\n",
        "    # リストを作成して削除する要素を追加\n",
        "    elements_to_remove = []\n",
        "\n",
        "    # k=\"type\" and v=\"multipolygon\" を持つ \"relation\" に対しての処理\n",
        "    for relation in root.findall(\".//relation/tag[@k='type'][@v='multipolygon']/..\"):\n",
        "        # 'k=\"building:part\"' を 'k=\"building\"' に書き換える\n",
        "            building_part_tag = relation.find(\".//tag[@k='building:part']\")\n",
        "            if building_part_tag is not None:\n",
        "                building_part_tag.set('k', 'building')\n",
        "\n",
        "    # k=\"type\" and v=\"building\" を持つ \"relation\" に対しての処理\n",
        "    # \"/..\"をつけることで、tag の条件を満たす要素を選択するのではなく、その親要素を選択するようにしています。\n",
        "    for relation in root.findall(\".//relation/tag[@k='type'][@v='building']/..\"):\n",
        "        # 'role'=\"part\" かつ 'ref' を持つ \"way\" を取得:OK\n",
        "        part_ways = relation.findall(\".//member[@role='part'][@type='way']\")\n",
        "        for part_way in part_ways:\n",
        "            ref_value = part_way.get('ref')\n",
        "            #print(ref_value)\n",
        "            way = root.find(f\".//way[@id='{ref_value}']\")\n",
        "            if way is not None:\n",
        "                #print(f\"Modifying way with id={way.get('id')}: {ET.tostring(way)}\")\n",
        "                # 'k=\"building:part\"' を 'k=\"building\"' に書き換える\n",
        "                building_part_tag = way.find(\".//tag[@k='building:part']\")\n",
        "                if building_part_tag is not None:\n",
        "                    building_part_tag.set('k', 'building')\n",
        "        # 'role'=\"outline\" かつ 'ref' を持つ \"way\" を取得\n",
        "        part_ways = relation.findall(\".//member[@role='outline'][@type='way']\")\n",
        "        for part_way in part_ways:\n",
        "            ref_value = part_way.get('ref')\n",
        "            way = root.find(f\".//way[@id='{ref_value}']\")\n",
        "            if way is not None:\n",
        "                #print(f\"Removing way with id={way.get('id')}: {ET.tostring(way)}\")\n",
        "                elements_to_remove.append(way)\n",
        "\n",
        "        # \"relation\" タグが存在する場合にはそれを削除\n",
        "        #print(f\"Removing relation with id={relation.get('id')}: {ET.tostring(relation)}\")\n",
        "        elements_to_remove.append(relation)\n",
        "\n",
        "    # リストにある要素を削除\n",
        "    for element in elements_to_remove:\n",
        "        if element in root:\n",
        "            root.remove(element)\n",
        "\n",
        "    # 出力時に encoding='utf-8' を指定してファイルに書き込む\n",
        "    tree.write(output_file, encoding='utf-8')\n",
        "\n",
        "# フォルダ内のすべてのXMLファイルに対して処理を行う\n",
        "process_folder(folder_path)\n",
        "\n",
        "print(\"処理が完了しました。\")"
      ],
      "metadata": {
        "colab": {
          "base_uri": "https://localhost:8080/"
        },
        "outputId": "09ae8dd2-959a-41f3-a152-b15271f9bb20",
        "id": "1Y5BzCUPGJhj"
      },
      "execution_count": null,
      "outputs": [
        {
          "output_type": "stream",
          "name": "stdout",
          "text": [
            "処理が完了しました。\n"
          ]
        }
      ]
    }
  ]
}